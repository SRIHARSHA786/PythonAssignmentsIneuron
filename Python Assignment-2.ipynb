{
 "cells": [
  {
   "cell_type": "markdown",
   "id": "5db57d2b",
   "metadata": {},
   "source": [
    "# Assignment-2"
   ]
  },
  {
   "cell_type": "markdown",
   "id": "7d0cfb8b",
   "metadata": {},
   "source": [
    "1.What are the two values of the Boolean data type? How do you write them?\n",
    "\n",
    "sol:True,False"
   ]
  },
  {
   "cell_type": "code",
   "execution_count": 3,
   "id": "8718eb21",
   "metadata": {},
   "outputs": [
    {
     "ename": "SyntaxError",
     "evalue": "invalid syntax (Temp/ipykernel_4616/2604129562.py, line 2)",
     "output_type": "error",
     "traceback": [
      "\u001b[1;36m  File \u001b[1;32m\"C:\\Users\\mattu\\AppData\\Local\\Temp/ipykernel_4616/2604129562.py\"\u001b[1;36m, line \u001b[1;32m2\u001b[0m\n\u001b[1;33m    sol:and,or,not also called as boolean operators\u001b[0m\n\u001b[1;37m        ^\u001b[0m\n\u001b[1;31mSyntaxError\u001b[0m\u001b[1;31m:\u001b[0m invalid syntax\n"
     ]
    }
   ],
   "source": [
    "2. What are the three different types of Boolean operators?\n",
    "sol:and,or,not also called as boolean operators"
   ]
  },
  {
   "cell_type": "raw",
   "id": "1f8d36d3",
   "metadata": {},
   "source": [
    "3. Make a list of each Boolean operator's truth tables (i.e. every possible combination of Boolean values for the operator and what it evaluate ).\n",
    "sol:Truth Table for and:\n",
    "    True True True\n",
    "    True False False\n",
    "    False True False\n",
    "    False False False\n",
    "    \n",
    "    Truth Table for or:\n",
    "    True True True\n",
    "    True False True\n",
    "    False True True\n",
    "    False False False\n",
    "    \n",
    "    Truth table for Not:\n",
    "    True Flase\n",
    "    False True"
   ]
  },
  {
   "cell_type": "code",
   "execution_count": 4,
   "id": "eb612a15",
   "metadata": {},
   "outputs": [
    {
     "ename": "SyntaxError",
     "evalue": "invalid syntax (Temp/ipykernel_4616/1254311629.py, line 2)",
     "output_type": "error",
     "traceback": [
      "\u001b[1;36m  File \u001b[1;32m\"C:\\Users\\mattu\\AppData\\Local\\Temp/ipykernel_4616/1254311629.py\"\u001b[1;36m, line \u001b[1;32m2\u001b[0m\n\u001b[1;33m    (5 > 4) and (3 == 5)->false\u001b[0m\n\u001b[1;37m                        ^\u001b[0m\n\u001b[1;31mSyntaxError\u001b[0m\u001b[1;31m:\u001b[0m invalid syntax\n"
     ]
    }
   ],
   "source": [
    "4. What are the values of the following expressions?\n",
    "(5 > 4) and (3 == 5)->false\n",
    "not (5 > 4)->false\n",
    "(5 > 4) or (3 == 5)->true\n",
    "not ((5 > 4) or (3 == 5))->false\n",
    "(True and True) and (True == False)->false\n",
    "(not False) or (not True)->true\n",
    "\n"
   ]
  },
  {
   "cell_type": "code",
   "execution_count": 5,
   "id": "b014791f",
   "metadata": {},
   "outputs": [
    {
     "ename": "SyntaxError",
     "evalue": "invalid syntax (Temp/ipykernel_4616/4137995198.py, line 2)",
     "output_type": "error",
     "traceback": [
      "\u001b[1;36m  File \u001b[1;32m\"C:\\Users\\mattu\\AppData\\Local\\Temp/ipykernel_4616/4137995198.py\"\u001b[1;36m, line \u001b[1;32m2\u001b[0m\n\u001b[1;33m    sol:==,>,<,>=,<=,!=\u001b[0m\n\u001b[1;37m         ^\u001b[0m\n\u001b[1;31mSyntaxError\u001b[0m\u001b[1;31m:\u001b[0m invalid syntax\n"
     ]
    }
   ],
   "source": [
    "5. What are the six comparison operators?\n",
    "sol:==,>,<,>=,<=,!="
   ]
  },
  {
   "cell_type": "code",
   "execution_count": null,
   "id": "174c612f",
   "metadata": {},
   "outputs": [],
   "source": [
    "6. How do you tell the difference between the equal to and assignment operators?Describe a condition and when you would use one.\n",
    "sol:a=4->I am assigning a value to a as 4\n",
    "    a==4->checking whether the value of a is 4\n",
    "\n",
    "\n",
    "\n",
    "\n",
    "\n"
   ]
  },
  {
   "cell_type": "code",
   "execution_count": 8,
   "id": "401e5d0b",
   "metadata": {},
   "outputs": [
    {
     "name": "stdout",
     "output_type": "stream",
     "text": [
      "ham\n",
      "spam\n",
      "spam\n"
     ]
    }
   ],
   "source": [
    "7. Identify the three blocks in this code:\n",
    "spam = 0\n",
    "if spam == 10:\n",
    "    print(\"eggs\")\n",
    "if spam > 5:\n",
    "    print(\"bacon\")\n",
    "else:\n",
    "    print('ham')\n",
    "    print('spam')\n",
    "    print('spam')\n",
    "\n",
    "    sol:ham\n",
    "        spam\n",
    "        spam\n"
   ]
  },
  {
   "cell_type": "code",
   "execution_count": 10,
   "id": "cc7adaf9",
   "metadata": {},
   "outputs": [
    {
     "name": "stdout",
     "output_type": "stream",
     "text": [
      "2\n",
      "Howdy\n"
     ]
    }
   ],
   "source": [
    "8. Write code that prints Hello if 1 is stored in spam, prints Howdy if 2 is stored in spam, and prints Greetings! if anything else is stored in spam.\n",
    "\n",
    "spam=int(input())\n",
    "if spam==1:\n",
    "    print(\"Hello\")\n",
    "elif spam==2:\n",
    "    print(\"Howdy\")\n",
    "else:\n",
    "    print(\"Greetings!\")"
   ]
  },
  {
   "cell_type": "code",
   "execution_count": null,
   "id": "83ec9d58",
   "metadata": {},
   "outputs": [],
   "source": [
    "9.If your programme is stuck in an endless loop, what keys you’ll press?\n",
    "sol:interrupt the kernel"
   ]
  },
  {
   "cell_type": "code",
   "execution_count": 11,
   "id": "668d883b",
   "metadata": {},
   "outputs": [
    {
     "ename": "SyntaxError",
     "evalue": "invalid syntax (Temp/ipykernel_4616/3678222944.py, line 2)",
     "output_type": "error",
     "traceback": [
      "\u001b[1;36m  File \u001b[1;32m\"C:\\Users\\mattu\\AppData\\Local\\Temp/ipykernel_4616/3678222944.py\"\u001b[1;36m, line \u001b[1;32m2\u001b[0m\n\u001b[1;33m    sol:break->will come out of the loop\u001b[0m\n\u001b[1;37m        ^\u001b[0m\n\u001b[1;31mSyntaxError\u001b[0m\u001b[1;31m:\u001b[0m invalid syntax\n"
     ]
    }
   ],
   "source": [
    "\n",
    "10. How can you tell the difference between break and continue?\n",
    "sol:break->will come out of the loop\n",
    "    continue->returns control to the beginning of the loop"
   ]
  },
  {
   "cell_type": "code",
   "execution_count": null,
   "id": "3db6e1cf",
   "metadata": {},
   "outputs": [],
   "source": [
    "\n",
    "11. In a for loop, what is the difference between range(10), range(0, 10), and range(0, 10, 1)?\n",
    "\n",
    "sol:all will print the values from 0 to 9"
   ]
  },
  {
   "cell_type": "code",
   "execution_count": null,
   "id": "6fa0ab44",
   "metadata": {},
   "outputs": [],
   "source": [
    "\n",
    "12. Write a short program that prints the numbers 1 to 10 using a for loop. Then write an equivalent program that prints the numbers 1 to 10 using a while loop.\n",
    "\n",
    "sol:for i in range(1,11):\n",
    "        print(i)\n",
    "        \n",
    "\n",
    "    n=10\n",
    "    count=0\n",
    "    while(n>0):\n",
    "        count=count+1\n",
    "        n=n-1\n",
    "        print(count)\n",
    "       \n",
    "\n"
   ]
  },
  {
   "cell_type": "code",
   "execution_count": null,
   "id": "12bd9819",
   "metadata": {},
   "outputs": [],
   "source": [
    "13. If you had a function named bacon() inside a module named spam, how would you call it after importing spam\n",
    "\n",
    "sol:spam.bacon()"
   ]
  },
  {
   "cell_type": "code",
   "execution_count": null,
   "id": "6731e83a",
   "metadata": {},
   "outputs": [],
   "source": []
  },
  {
   "cell_type": "code",
   "execution_count": null,
   "id": "9cfdb44f",
   "metadata": {},
   "outputs": [],
   "source": []
  }
 ],
 "metadata": {
  "kernelspec": {
   "display_name": "Python 3 (ipykernel)",
   "language": "python",
   "name": "python3"
  },
  "language_info": {
   "codemirror_mode": {
    "name": "ipython",
    "version": 3
   },
   "file_extension": ".py",
   "mimetype": "text/x-python",
   "name": "python",
   "nbconvert_exporter": "python",
   "pygments_lexer": "ipython3",
   "version": "3.9.7"
  }
 },
 "nbformat": 4,
 "nbformat_minor": 5
}
