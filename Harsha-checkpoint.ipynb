{
 "cells": [
  {
   "cell_type": "markdown",
   "id": "b8d9724a",
   "metadata": {},
   "source": [
    "Assignment1"
   ]
  },
  {
   "cell_type": "code",
   "execution_count": 1,
   "id": "6c4a1634",
   "metadata": {},
   "outputs": [
    {
     "ename": "SyntaxError",
     "evalue": "invalid syntax (Temp/ipykernel_8816/883240184.py, line 1)",
     "output_type": "error",
     "traceback": [
      "\u001b[1;36m  File \u001b[1;32m\"C:\\Users\\mattu\\AppData\\Local\\Temp/ipykernel_8816/883240184.py\"\u001b[1;36m, line \u001b[1;32m1\u001b[0m\n\u001b[1;33m    1. In the below elements which of them are values or an expression? eg:- values can be integer or string and expressions will be mathematical operators.\u001b[0m\n\u001b[1;37m       ^\u001b[0m\n\u001b[1;31mSyntaxError\u001b[0m\u001b[1;31m:\u001b[0m invalid syntax\n"
     ]
    }
   ],
   "source": [
    "1. In the below elements which of them are values or an expression? eg:- values can be integer or string and expressions will be mathematical operators. \n",
    "\n",
    "Sol:*  ->Expression\n",
    "\n",
    "'hello' ->string\n",
    "\n",
    "-87.8 ->float\n",
    "\n",
    "-  ->expression\n",
    "\n",
    "/  ->expression\n",
    "\n",
    "+ ->expression\n",
    "\n",
    "6  ->int"
   ]
  },
  {
   "cell_type": "code",
   "execution_count": 2,
   "id": "e7efba19",
   "metadata": {},
   "outputs": [
    {
     "ename": "SyntaxError",
     "evalue": "invalid syntax (Temp/ipykernel_8816/4098773685.py, line 1)",
     "output_type": "error",
     "traceback": [
      "\u001b[1;36m  File \u001b[1;32m\"C:\\Users\\mattu\\AppData\\Local\\Temp/ipykernel_8816/4098773685.py\"\u001b[1;36m, line \u001b[1;32m1\u001b[0m\n\u001b[1;33m    2. What is the difference between string and variable?\u001b[0m\n\u001b[1;37m       ^\u001b[0m\n\u001b[1;31mSyntaxError\u001b[0m\u001b[1;31m:\u001b[0m invalid syntax\n"
     ]
    }
   ],
   "source": [
    "2. What is the difference between string and variable? \n",
    "\n",
    "Sol:string is a datatype which stores characters \n",
    "\n",
    "variables hold a value of any datatype"
   ]
  },
  {
   "cell_type": "code",
   "execution_count": 3,
   "id": "e15ba591",
   "metadata": {},
   "outputs": [
    {
     "ename": "SyntaxError",
     "evalue": "invalid syntax (Temp/ipykernel_8816/2222410370.py, line 1)",
     "output_type": "error",
     "traceback": [
      "\u001b[1;36m  File \u001b[1;32m\"C:\\Users\\mattu\\AppData\\Local\\Temp/ipykernel_8816/2222410370.py\"\u001b[1;36m, line \u001b[1;32m1\u001b[0m\n\u001b[1;33m    3. Describe three different data types.\u001b[0m\n\u001b[1;37m       ^\u001b[0m\n\u001b[1;31mSyntaxError\u001b[0m\u001b[1;31m:\u001b[0m invalid syntax\n"
     ]
    }
   ],
   "source": [
    "3. Describe three different data types. \n",
    "\n",
    "Sol:Int->stores integer values\n",
    "\n",
    "string->stores all characters\n",
    "\n",
    "float->stores decimal values\n",
    "\n"
   ]
  },
  {
   "cell_type": "code",
   "execution_count": 4,
   "id": "89a65da7",
   "metadata": {},
   "outputs": [
    {
     "ename": "SyntaxError",
     "evalue": "invalid syntax (Temp/ipykernel_8816/2680317160.py, line 1)",
     "output_type": "error",
     "traceback": [
      "\u001b[1;36m  File \u001b[1;32m\"C:\\Users\\mattu\\AppData\\Local\\Temp/ipykernel_8816/2680317160.py\"\u001b[1;36m, line \u001b[1;32m1\u001b[0m\n\u001b[1;33m    4. What is an expression made up of? What do all expressions do?\u001b[0m\n\u001b[1;37m       ^\u001b[0m\n\u001b[1;31mSyntaxError\u001b[0m\u001b[1;31m:\u001b[0m invalid syntax\n"
     ]
    }
   ],
   "source": [
    "4. What is an expression made up of? What do all expressions do? \n",
    "\n",
    "Sol:expression is a combination of variables,constants and operators.Expressions will evaluate the mathematical operations"
   ]
  },
  {
   "cell_type": "code",
   "execution_count": 5,
   "id": "96fef431",
   "metadata": {},
   "outputs": [
    {
     "ename": "SyntaxError",
     "evalue": "invalid syntax (Temp/ipykernel_8816/2188274887.py, line 1)",
     "output_type": "error",
     "traceback": [
      "\u001b[1;36m  File \u001b[1;32m\"C:\\Users\\mattu\\AppData\\Local\\Temp/ipykernel_8816/2188274887.py\"\u001b[1;36m, line \u001b[1;32m1\u001b[0m\n\u001b[1;33m    5. This assignment statements, like spam = 10. What is the difference between an expression and a statement?\u001b[0m\n\u001b[1;37m       ^\u001b[0m\n\u001b[1;31mSyntaxError\u001b[0m\u001b[1;31m:\u001b[0m invalid syntax\n"
     ]
    }
   ],
   "source": [
    "5. This assignment statements, like spam = 10. What is the difference between an expression and a statement? \n",
    "\n",
    "Sol:Expression evaluates mathematical operation and statement will store the value assigned to it"
   ]
  },
  {
   "cell_type": "code",
   "execution_count": 6,
   "id": "e658c70b",
   "metadata": {},
   "outputs": [
    {
     "data": {
      "text/plain": [
       "23"
      ]
     },
     "execution_count": 6,
     "metadata": {},
     "output_type": "execute_result"
    }
   ],
   "source": [
    "6. After running the following code, what does the variable bacon contain? \n",
    "\n",
    "bacon = 22 \n",
    "\n",
    "bacon + 1 \n",
    "Sol:23"
   ]
  },
  {
   "cell_type": "code",
   "execution_count": 9,
   "id": "70bf85b7",
   "metadata": {},
   "outputs": [
    {
     "data": {
      "text/plain": [
       "'spamspamspam'"
      ]
     },
     "execution_count": 9,
     "metadata": {},
     "output_type": "execute_result"
    }
   ],
   "source": [
    "7. What should the values of the following two terms be? \n",
    "\n",
    "'spam' + 'spamspam' \n",
    "\n",
    "'spam' * 3 \n",
    "\n",
    "Sol:'spamspamspam'"
   ]
  },
  {
   "cell_type": "code",
   "execution_count": 10,
   "id": "6bb1f5b8",
   "metadata": {},
   "outputs": [
    {
     "ename": "SyntaxError",
     "evalue": "invalid syntax (Temp/ipykernel_8816/374398825.py, line 1)",
     "output_type": "error",
     "traceback": [
      "\u001b[1;36m  File \u001b[1;32m\"C:\\Users\\mattu\\AppData\\Local\\Temp/ipykernel_8816/374398825.py\"\u001b[1;36m, line \u001b[1;32m1\u001b[0m\n\u001b[1;33m    8. Why is eggs a valid variable name while 100 is invalid?\u001b[0m\n\u001b[1;37m       ^\u001b[0m\n\u001b[1;31mSyntaxError\u001b[0m\u001b[1;31m:\u001b[0m invalid syntax\n"
     ]
    }
   ],
   "source": [
    "8. Why is eggs a valid variable name while 100 is invalid? \n",
    "\n",
    "Sol:According to PEP-8 Standards we should not start an identifier name with a digit"
   ]
  },
  {
   "cell_type": "code",
   "execution_count": 11,
   "id": "be926989",
   "metadata": {},
   "outputs": [
    {
     "ename": "SyntaxError",
     "evalue": "invalid syntax (Temp/ipykernel_8816/2910623446.py, line 1)",
     "output_type": "error",
     "traceback": [
      "\u001b[1;36m  File \u001b[1;32m\"C:\\Users\\mattu\\AppData\\Local\\Temp/ipykernel_8816/2910623446.py\"\u001b[1;36m, line \u001b[1;32m1\u001b[0m\n\u001b[1;33m    9. What three functions can be used to get the integer, floating-point number, or string version of a value?\u001b[0m\n\u001b[1;37m       ^\u001b[0m\n\u001b[1;31mSyntaxError\u001b[0m\u001b[1;31m:\u001b[0m invalid syntax\n"
     ]
    }
   ],
   "source": [
    "9. What three functions can be used to get the integer, floating-point number, or string version of a value? \n",
    "Sol:int,float,str"
   ]
  },
  {
   "cell_type": "code",
   "execution_count": 12,
   "id": "8055c765",
   "metadata": {},
   "outputs": [
    {
     "ename": "TypeError",
     "evalue": "can only concatenate str (not \"int\") to str",
     "output_type": "error",
     "traceback": [
      "\u001b[1;31m---------------------------------------------------------------------------\u001b[0m",
      "\u001b[1;31mTypeError\u001b[0m                                 Traceback (most recent call last)",
      "\u001b[1;32m~\\AppData\\Local\\Temp/ipykernel_8816/1239103401.py\u001b[0m in \u001b[0;36m<module>\u001b[1;34m\u001b[0m\n\u001b[1;32m----> 1\u001b[1;33m \u001b[1;34m'I have eaten '\u001b[0m \u001b[1;33m+\u001b[0m \u001b[1;36m99\u001b[0m \u001b[1;33m+\u001b[0m \u001b[1;34m' burritos.'\u001b[0m\u001b[1;33m\u001b[0m\u001b[1;33m\u001b[0m\u001b[0m\n\u001b[0m",
      "\u001b[1;31mTypeError\u001b[0m: can only concatenate str (not \"int\") to str"
     ]
    }
   ],
   "source": [
    "10. Why does this expression cause an error? How can you fix it? \n",
    "\n",
    "'I have eaten ' + 99 + ' burritos.' \n",
    "\n",
    "Sol:Because 99 is an int datatype we cannot concatenate int and string"
   ]
  },
  {
   "cell_type": "code",
   "execution_count": null,
   "id": "5288be43",
   "metadata": {},
   "outputs": [],
   "source": []
  }
 ],
 "metadata": {
  "kernelspec": {
   "display_name": "Python 3 (ipykernel)",
   "language": "python",
   "name": "python3"
  },
  "language_info": {
   "codemirror_mode": {
    "name": "ipython",
    "version": 3
   },
   "file_extension": ".py",
   "mimetype": "text/x-python",
   "name": "python",
   "nbconvert_exporter": "python",
   "pygments_lexer": "ipython3",
   "version": "3.9.7"
  }
 },
 "nbformat": 4,
 "nbformat_minor": 5
}
